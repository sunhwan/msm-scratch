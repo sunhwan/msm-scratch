{
 "cells": [
  {
   "cell_type": "markdown",
   "metadata": {},
   "source": [
    "# Python Basic\n",
    "\n",
    "Please see [Python NumPy Tutorial](http://cs231n.github.io/python-numpy-tutorial/) if you are not very familiar to Python and NumPy in general. Here, we will go over some of the higher level python data type and basics of NumPy array operations."
   ]
  },
  {
   "cell_type": "markdown",
   "metadata": {},
   "source": [
    "## Python container data types"
   ]
  },
  {
   "cell_type": "code",
   "execution_count": 2,
   "metadata": {
    "collapsed": false
   },
   "outputs": [
    {
     "name": "stdout",
     "output_type": "stream",
     "text": [
      "1\n",
      "[2, 3]\n",
      "3\n"
     ]
    }
   ],
   "source": [
    "# list \n",
    "l = [1, 2, 3]\n",
    "print l[0]\n",
    "print l[1:3]\n",
    "print l[-1]"
   ]
  },
  {
   "cell_type": "code",
   "execution_count": 4,
   "metadata": {
    "collapsed": false
   },
   "outputs": [
    {
     "name": "stdout",
     "output_type": "stream",
     "text": [
      "1\n",
      "4\n",
      "9\n"
     ]
    }
   ],
   "source": [
    "# loop\n",
    "for n in (1,2,3):\n",
    "    print n**2"
   ]
  },
  {
   "cell_type": "code",
   "execution_count": 5,
   "metadata": {
    "collapsed": false
   },
   "outputs": [
    {
     "name": "stdout",
     "output_type": "stream",
     "text": [
      "[1, 4, 9]\n"
     ]
    }
   ],
   "source": [
    "# list comprehension\n",
    "l = [n**2 for n in (1,2,3)]\n",
    "print l"
   ]
  },
  {
   "cell_type": "code",
   "execution_count": 6,
   "metadata": {
    "collapsed": false
   },
   "outputs": [
    {
     "name": "stdout",
     "output_type": "stream",
     "text": [
      "[9]\n"
     ]
    }
   ],
   "source": [
    "l = [n**2 for n in (1,2,3) if n > 2]\n",
    "print l"
   ]
  },
  {
   "cell_type": "code",
   "execution_count": 7,
   "metadata": {
    "collapsed": false,
    "scrolled": true
   },
   "outputs": [
    {
     "name": "stdout",
     "output_type": "stream",
     "text": [
      "4\n"
     ]
    }
   ],
   "source": [
    "# dictionary\n",
    "d = {'cat': 4, 'dog': 4, 'chicken': 2, 'spider': 8}\n",
    "print d['cat']"
   ]
  },
  {
   "cell_type": "code",
   "execution_count": 8,
   "metadata": {
    "collapsed": false
   },
   "outputs": [
    {
     "name": "stdout",
     "output_type": "stream",
     "text": [
      "[1, 2, 3, 4, 1, 2]\n",
      "set([1, 2, 3, 4])\n"
     ]
    }
   ],
   "source": [
    "# set\n",
    "l = list((1,2,3,4,1,2))\n",
    "print l\n",
    "s = set((1,2,3,4,1,2))\n",
    "print s"
   ]
  },
  {
   "cell_type": "code",
   "execution_count": 9,
   "metadata": {
    "collapsed": false
   },
   "outputs": [
    {
     "name": "stdout",
     "output_type": "stream",
     "text": [
      "[1, 2, 3, 4, 1, 2, 1]\n",
      "set([1, 2, 3, 4])\n"
     ]
    }
   ],
   "source": [
    "l.append(1)\n",
    "print l\n",
    "s.add(1)\n",
    "print s"
   ]
  },
  {
   "cell_type": "markdown",
   "metadata": {},
   "source": [
    "## NumPy Arrays"
   ]
  },
  {
   "cell_type": "code",
   "execution_count": 10,
   "metadata": {
    "collapsed": true
   },
   "outputs": [],
   "source": [
    "import numpy as np"
   ]
  },
  {
   "cell_type": "code",
   "execution_count": 11,
   "metadata": {
    "collapsed": false
   },
   "outputs": [
    {
     "name": "stdout",
     "output_type": "stream",
     "text": [
      "(3,)\n",
      "[1 2 3]\n",
      "1\n"
     ]
    }
   ],
   "source": [
    "a = np.array((1,2,3))\n",
    "print a.shape\n",
    "print a\n",
    "print a[0]"
   ]
  },
  {
   "cell_type": "code",
   "execution_count": 12,
   "metadata": {
    "collapsed": false
   },
   "outputs": [
    {
     "name": "stdout",
     "output_type": "stream",
     "text": [
      "(3, 3)\n",
      "[[1 2 3]\n",
      " [2 3 4]\n",
      " [4 5 6]]\n",
      "4\n"
     ]
    }
   ],
   "source": [
    "a = np.array(((1,2,3),\n",
    "              (2,3,4),\n",
    "              (4,5,6)))\n",
    "print a.shape\n",
    "print a\n",
    "print a[1,2]"
   ]
  },
  {
   "cell_type": "code",
   "execution_count": 13,
   "metadata": {
    "collapsed": false
   },
   "outputs": [
    {
     "name": "stdout",
     "output_type": "stream",
     "text": [
      "[[1 2 3]\n",
      " [2 3 4]\n",
      " [4 5 6]]\n",
      "[2 3 5]\n",
      "[1 2 3]\n"
     ]
    }
   ],
   "source": [
    "print a\n",
    "print a[:,1] # column indexing\n",
    "print a[0,:] # row indexing"
   ]
  },
  {
   "cell_type": "code",
   "execution_count": null,
   "metadata": {
    "collapsed": false
   },
   "outputs": [],
   "source": [
    "indexes = [1,2]\n",
    "print a[indexes, :]"
   ]
  },
  {
   "cell_type": "code",
   "execution_count": 14,
   "metadata": {
    "collapsed": false
   },
   "outputs": [
    {
     "name": "stdout",
     "output_type": "stream",
     "text": [
      "[[False False  True]\n",
      " [False  True  True]\n",
      " [ True  True  True]]\n",
      "[3 3 4 4 5 6]\n"
     ]
    }
   ],
   "source": [
    "print a > 2\n",
    "print a[a > 2]"
   ]
  },
  {
   "cell_type": "code",
   "execution_count": 15,
   "metadata": {
    "collapsed": false
   },
   "outputs": [
    {
     "name": "stdout",
     "output_type": "stream",
     "text": [
      "[[1 2 3]\n",
      " [2 3 4]\n",
      " [4 5 6]]\n",
      "[[ 2  4  6]\n",
      " [ 4  6  8]\n",
      " [ 8 10 12]]\n"
     ]
    }
   ],
   "source": [
    "print a\n",
    "print a * 2"
   ]
  },
  {
   "cell_type": "code",
   "execution_count": null,
   "metadata": {
    "collapsed": false
   },
   "outputs": [],
   "source": [
    "b = np.array((2,3,4))\n",
    "print a\n",
    "print b\n",
    "print a * b"
   ]
  },
  {
   "cell_type": "code",
   "execution_count": null,
   "metadata": {
    "collapsed": false
   },
   "outputs": [],
   "source": [
    "b = np.array((2,3,4))\n",
    "print a\n",
    "print b[:, np.newaxis]\n",
    "print a * b[:, np.newaxis]"
   ]
  },
  {
   "cell_type": "code",
   "execution_count": null,
   "metadata": {
    "collapsed": false
   },
   "outputs": [],
   "source": [
    "u = np.array((1,2,3))\n",
    "v = np.array((2,3,4))\n",
    "print np.dot(u, v)\n",
    "print u[0]*v[0] + u[1]*v[1] + u[2]*v[2]"
   ]
  },
  {
   "cell_type": "markdown",
   "metadata": {},
   "source": [
    "Suppose you have a list of coordinates in one array, and you want to calculate the distance the coordinates and a point.\n",
    "\n",
    "$\\begin{eqnarray}\n",
    "d  &=& \\left| \\vec{r} - \\vec{r_0} \\right|\n",
    "\\\\ &=& \\left( \\sum_i \\left( x_i - y_i \\right)^2 \\right) ^{1/2} \\\\\n",
    "\\end{eqnarray}$"
   ]
  },
  {
   "cell_type": "code",
   "execution_count": 16,
   "metadata": {
    "collapsed": false
   },
   "outputs": [
    {
     "name": "stdout",
     "output_type": "stream",
     "text": [
      "[[-1 -2 -2]\n",
      " [ 0  0 -3]\n",
      " [ 2 -1 -1]\n",
      " [ 0  0  0]]\n",
      "[[1 4 4]\n",
      " [0 0 9]\n",
      " [4 1 1]\n",
      " [0 0 0]]\n",
      "[9 9 6 0]\n",
      "[ 3.          3.          2.44948974  0.        ]\n"
     ]
    }
   ],
   "source": [
    "u = np.array(((1,1,2),\n",
    "              (2,3,1),\n",
    "              (4,2,3),\n",
    "              (2,3,4)))\n",
    "v = np.array((2,3,4))\n",
    "\n",
    "print (u - v)\n",
    "print (u - v)**2\n",
    "print np.sum((u - v)**2, axis=1)\n",
    "print np.sqrt(np.sum((u - v)**2, axis=1))"
   ]
  },
  {
   "cell_type": "code",
   "execution_count": 17,
   "metadata": {
    "collapsed": false
   },
   "outputs": [
    {
     "name": "stdout",
     "output_type": "stream",
     "text": [
      "[ 3.          3.          2.44948974  0.        ]\n"
     ]
    }
   ],
   "source": [
    "print np.linalg.norm(u-v, axis=1)"
   ]
  },
  {
   "cell_type": "markdown",
   "metadata": {},
   "source": [
    "## Matplotlib"
   ]
  },
  {
   "cell_type": "code",
   "execution_count": 18,
   "metadata": {
    "collapsed": true
   },
   "outputs": [],
   "source": [
    "%matplotlib inline\n",
    "import matplotlib.pyplot as plt"
   ]
  },
  {
   "cell_type": "code",
   "execution_count": 19,
   "metadata": {
    "collapsed": false
   },
   "outputs": [
    {
     "data": {
      "image/png": "[encoded data removed]",
      "text/plain": [
       "<matplotlib.figure.Figure at 0x10794ab50>"
      ]
     },
     "metadata": {},
     "output_type": "display_data"
    }
   ],
   "source": [
    "x = (1,2,3)\n",
    "y = (4,5,6)\n",
    "plt.scatter(x, y)\n",
    "plt.show()"
   ]
  },
  {
   "cell_type": "code",
   "execution_count": 20,
   "metadata": {
    "collapsed": false
   },
   "outputs": [
    {
     "data": {
      "image/png": "[encoded data removed]",
      "text/plain": [
       "<matplotlib.figure.Figure at 0x1079a9f50>"
      ]
     },
     "metadata": {},
     "output_type": "display_data"
    }
   ],
   "source": [
    "x = np.arange(-3*np.pi, 3*np.pi, 0.1)\n",
    "y = np.cos(x)\n",
    "plt.plot(x, y)\n",
    "plt.show()"
   ]
  },
  {
   "cell_type": "code",
   "execution_count": null,
   "metadata": {
    "collapsed": true
   },
   "outputs": [],
   "source": []
  }
 ],
 "metadata": {
  "kernelspec": {
   "display_name": "Python 2",
   "language": "python",
   "name": "python2"
  },
  "language_info": {
   "codemirror_mode": {
    "name": "ipython",
    "version": 2
   },
   "file_extension": ".py",
   "mimetype": "text/x-python",
   "name": "python",
   "nbconvert_exporter": "python",
   "pygments_lexer": "ipython2",
   "version": "2.7.11"
  }
 },
 "nbformat": 4,
 "nbformat_minor": 0
}
